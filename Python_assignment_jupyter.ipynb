{
 "cells": [
  {
   "cell_type": "code",
   "execution_count": 292,
   "metadata": {
    "collapsed": false
   },
   "outputs": [],
   "source": [
    "import pandas as pd\n",
    "from ggplot import *\n",
    "import seaborn as sns\n",
    "from Bio import SeqIO\n",
    "from Bio.Data import CodonTable"
   ]
  },
  {
   "cell_type": "code",
   "execution_count": 293,
   "metadata": {
    "collapsed": true
   },
   "outputs": [],
   "source": [
    "%matplotlib inline "
   ]
  },
  {
   "cell_type": "code",
   "execution_count": 294,
   "metadata": {
    "collapsed": false
   },
   "outputs": [
    {
     "data": {
      "text/html": [
       "\n",
       "    <div class=\"bk-root\">\n",
       "        <a href=\"http://bokeh.pydata.org\" target=\"_blank\" class=\"bk-logo bk-logo-small bk-logo-notebook\"></a>\n",
       "        <span id=\"681e3fe4-99c0-4ec5-bb4f-0898ef85bcd9\">Loading BokehJS ...</span>\n",
       "    </div>"
      ]
     },
     "metadata": {},
     "output_type": "display_data"
    },
    {
     "data": {
      "application/javascript": [
       "\n",
       "(function(global) {\n",
       "  function now() {\n",
       "    return new Date();\n",
       "  }\n",
       "\n",
       "  var force = true;\n",
       "\n",
       "  if (typeof (window._bokeh_onload_callbacks) === \"undefined\" || force === true) {\n",
       "    window._bokeh_onload_callbacks = [];\n",
       "    window._bokeh_is_loading = undefined;\n",
       "  }\n",
       "\n",
       "\n",
       "  \n",
       "  if (typeof (window._bokeh_timeout) === \"undefined\" || force === true) {\n",
       "    window._bokeh_timeout = Date.now() + 5000;\n",
       "    window._bokeh_failed_load = false;\n",
       "  }\n",
       "\n",
       "  var NB_LOAD_WARNING = {'data': {'text/html':\n",
       "     \"<div style='background-color: #fdd'>\\n\"+\n",
       "     \"<p>\\n\"+\n",
       "     \"BokehJS does not appear to have successfully loaded. If loading BokehJS from CDN, this \\n\"+\n",
       "     \"may be due to a slow or bad network connection. Possible fixes:\\n\"+\n",
       "     \"</p>\\n\"+\n",
       "     \"<ul>\\n\"+\n",
       "     \"<li>re-rerun `output_notebook()` to attempt to load from CDN again, or</li>\\n\"+\n",
       "     \"<li>use INLINE resources instead, as so:</li>\\n\"+\n",
       "     \"</ul>\\n\"+\n",
       "     \"<code>\\n\"+\n",
       "     \"from bokeh.resources import INLINE\\n\"+\n",
       "     \"output_notebook(resources=INLINE)\\n\"+\n",
       "     \"</code>\\n\"+\n",
       "     \"</div>\"}};\n",
       "\n",
       "  function display_loaded() {\n",
       "    if (window.Bokeh !== undefined) {\n",
       "      document.getElementById(\"681e3fe4-99c0-4ec5-bb4f-0898ef85bcd9\").textContent = \"BokehJS successfully loaded.\";\n",
       "    } else if (Date.now() < window._bokeh_timeout) {\n",
       "      setTimeout(display_loaded, 100)\n",
       "    }\n",
       "  }\n",
       "\n",
       "  function run_callbacks() {\n",
       "    window._bokeh_onload_callbacks.forEach(function(callback) { callback() });\n",
       "    delete window._bokeh_onload_callbacks\n",
       "    console.info(\"Bokeh: all callbacks have finished\");\n",
       "  }\n",
       "\n",
       "  function load_libs(js_urls, callback) {\n",
       "    window._bokeh_onload_callbacks.push(callback);\n",
       "    if (window._bokeh_is_loading > 0) {\n",
       "      console.log(\"Bokeh: BokehJS is being loaded, scheduling callback at\", now());\n",
       "      return null;\n",
       "    }\n",
       "    if (js_urls == null || js_urls.length === 0) {\n",
       "      run_callbacks();\n",
       "      return null;\n",
       "    }\n",
       "    console.log(\"Bokeh: BokehJS not loaded, scheduling load and callback at\", now());\n",
       "    window._bokeh_is_loading = js_urls.length;\n",
       "    for (var i = 0; i < js_urls.length; i++) {\n",
       "      var url = js_urls[i];\n",
       "      var s = document.createElement('script');\n",
       "      s.src = url;\n",
       "      s.async = false;\n",
       "      s.onreadystatechange = s.onload = function() {\n",
       "        window._bokeh_is_loading--;\n",
       "        if (window._bokeh_is_loading === 0) {\n",
       "          console.log(\"Bokeh: all BokehJS libraries loaded\");\n",
       "          run_callbacks()\n",
       "        }\n",
       "      };\n",
       "      s.onerror = function() {\n",
       "        console.warn(\"failed to load library \" + url);\n",
       "      };\n",
       "      console.log(\"Bokeh: injecting script tag for BokehJS library: \", url);\n",
       "      document.getElementsByTagName(\"head\")[0].appendChild(s);\n",
       "    }\n",
       "  };var element = document.getElementById(\"681e3fe4-99c0-4ec5-bb4f-0898ef85bcd9\");\n",
       "  if (element == null) {\n",
       "    console.log(\"Bokeh: ERROR: autoload.js configured with elementid '681e3fe4-99c0-4ec5-bb4f-0898ef85bcd9' but no matching script tag was found. \")\n",
       "    return false;\n",
       "  }\n",
       "\n",
       "  var js_urls = [\"https://cdn.pydata.org/bokeh/release/bokeh-0.12.4.min.js\", \"https://cdn.pydata.org/bokeh/release/bokeh-widgets-0.12.4.min.js\"];\n",
       "\n",
       "  var inline_js = [\n",
       "    function(Bokeh) {\n",
       "      Bokeh.set_log_level(\"info\");\n",
       "    },\n",
       "    \n",
       "    function(Bokeh) {\n",
       "      \n",
       "      document.getElementById(\"681e3fe4-99c0-4ec5-bb4f-0898ef85bcd9\").textContent = \"BokehJS is loading...\";\n",
       "    },\n",
       "    function(Bokeh) {\n",
       "      console.log(\"Bokeh: injecting CSS: https://cdn.pydata.org/bokeh/release/bokeh-0.12.4.min.css\");\n",
       "      Bokeh.embed.inject_css(\"https://cdn.pydata.org/bokeh/release/bokeh-0.12.4.min.css\");\n",
       "      console.log(\"Bokeh: injecting CSS: https://cdn.pydata.org/bokeh/release/bokeh-widgets-0.12.4.min.css\");\n",
       "      Bokeh.embed.inject_css(\"https://cdn.pydata.org/bokeh/release/bokeh-widgets-0.12.4.min.css\");\n",
       "    }\n",
       "  ];\n",
       "\n",
       "  function run_inline_js() {\n",
       "    \n",
       "    if ((window.Bokeh !== undefined) || (force === true)) {\n",
       "      for (var i = 0; i < inline_js.length; i++) {\n",
       "        inline_js[i](window.Bokeh);\n",
       "      }if (force === true) {\n",
       "        display_loaded();\n",
       "      }} else if (Date.now() < window._bokeh_timeout) {\n",
       "      setTimeout(run_inline_js, 100);\n",
       "    } else if (!window._bokeh_failed_load) {\n",
       "      console.log(\"Bokeh: BokehJS failed to load within specified timeout.\");\n",
       "      window._bokeh_failed_load = true;\n",
       "    } else if (force !== true) {\n",
       "      var cell = $(document.getElementById(\"681e3fe4-99c0-4ec5-bb4f-0898ef85bcd9\")).parents('.cell').data().cell;\n",
       "      cell.output_area.append_execute_result(NB_LOAD_WARNING)\n",
       "    }\n",
       "\n",
       "  }\n",
       "\n",
       "  if (window._bokeh_is_loading === 0) {\n",
       "    console.log(\"Bokeh: BokehJS loaded, going straight to plotting\");\n",
       "    run_inline_js();\n",
       "  } else {\n",
       "    load_libs(js_urls, function() {\n",
       "      console.log(\"Bokeh: BokehJS plotting callback run at\", now());\n",
       "      run_inline_js();\n",
       "    });\n",
       "  }\n",
       "}(this));"
      ]
     },
     "metadata": {},
     "output_type": "display_data"
    }
   ],
   "source": [
    "from bokeh.io import push_notebook, show, output_notebook\n",
    "from bokeh.charts import Histogram\n",
    "output_notebook()"
   ]
  },
  {
   "cell_type": "code",
   "execution_count": 295,
   "metadata": {
    "collapsed": true
   },
   "outputs": [],
   "source": [
    "def get_sequences_from_file(fasta_fn): #Creates a function named get_sequence_from_file that intakes the fasta file fasta_fn\n",
    "    sequence_data_dict = {} #makes an empty dictionary\n",
    "    for record in SeqIO.parse(fasta_fn, \"fasta\"): #for loop that will call the method parse on SeqIO, requires the input of the field name and field spec  \n",
    "        description = record.description.split() #makes a variable that will break record.description by the default space delimiter\n",
    "        species_name = description[1] + \" \" + description[2] # makes variable that is the description[1] and description[2] seperated by a space\n",
    "        sequence_data_dict[species_name] = record.seq #sets the sequence_data_dict to a key of the species_name with a value of record.seq\n",
    "    return(sequence_data_dict) # returns the dictionary "
   ]
  },
  {
   "cell_type": "code",
   "execution_count": 296,
   "metadata": {
    "collapsed": false
   },
   "outputs": [],
   "source": [
    "from Bio.Data import CodonTable\n",
    "from Bio.Seq import Seq\n",
    "\n",
    "def translate_function(string_nucleotides): \n",
    "    mito_table = CodonTable.unambiguous_dna_by_name[\"Vertebrate Mitochondrial\"]\n",
    "    #mito_table = CodonTable.unambiguous_dna_by_id[2]\n",
    "    stop_codons= mito_table.stop_codons #variable to save the stop codons for the mito.table\n",
    "    aa_seq_string=\"\" #creates and empty string\n",
    "    isStopCodon=None #makes a boolean, default is false\n",
    "    for i in range(0, len(string_nucleotides),3): #loops through the the string of nucleotides, starting at 0 and increasing by three each time\n",
    "        codon=string_nucleotides[i]+string_nucleotides[i+1]+string_nucleotides[i+2] #get the nucleotides at position i, i+1, and i+2 to make a codon\n",
    "        for x in stop_codons: #check of the codon is a stop_codon\n",
    "            if codon==x:\n",
    "                isStopCodon=True\n",
    "                break #end check if codon is equivalent to once of the stop codons\n",
    "            elif codon!=x:\n",
    "                isStopCodon=False\n",
    "                \n",
    "        if isStopCodon==True:\n",
    "            break #stop sequence once it reaches a stop codon\n",
    "        \n",
    "        elif isStopCodon==False: #if codon is not a stop codon \n",
    "            amino_acid=mito_table.forward_table[codon] #convert the codon to an amino acid \n",
    "            aa_seq_string=aa_seq_string+amino_acid #add current amino acid to the amino acid sequence\n",
    "        \n",
    "    return(aa_seq_string) #returns the amino acid as a string\n",
    "\n",
    "#print(translate_function(\"ATGGCCATTGTAATGGGCAGGCGCTGAAAGGGTGCCCGATAG\"))\n",
    "\n",
    "\n"
   ]
  },
  {
   "cell_type": "code",
   "execution_count": 297,
   "metadata": {
    "collapsed": false
   },
   "outputs": [],
   "source": [
    "from Bio.Seq import Seq\n",
    "from Bio.Alphabet import IUPAC\n",
    "#create the method called better_translation, input is a string of nucleotides\n",
    "def better_translation(string_nucleotides):\n",
    "    coding_dna = Seq(string_nucleotides, IUPAC.unambiguous_dna) #make a sequence variable using the input string\n",
    "    amino_acid_sequence= coding_dna.translate(table=\"Vertebrate Mitochondrial\",to_stop=True) #use the method from biopython package to translate\n",
    "    return amino_acid_sequence #return the amino acid sequence\n",
    "\n",
    "\n",
    "#string_nucleotides1=\"ATGGCCATTGTAATGGGCCGCTGAAAGGGTGCCCGATAG\"\n",
    "#string_nucleotides2=\"ATGGCCATTGTAATGGGCAGGCGCTGAAAGGGTGCCCGATAG\"\n",
    "#print(better_translation(\"ATGGCCATTGTAATGGGCAGGCGCTGAAAGGGTGCCCGATAG\"))\n"
   ]
  },
  {
   "cell_type": "code",
   "execution_count": 298,
   "metadata": {
    "collapsed": false,
    "scrolled": true
   },
   "outputs": [],
   "source": [
    "def get_proportion_aa_type_function(aa_seq): #definition of method get_proportion_aa_type_function\n",
    "    charged = ['R','K','D','E'] \n",
    "    polar = ['Q','N','H','S','T','Y','C','M','W']\n",
    "    hydrophobic = ['A','I','L','F','V','P','G']\n",
    "    proportion_charged=0 #set counter of charged aa to 0\n",
    "    proportion_polar=0 #set counter of polar aa to 0\n",
    "    proportion_hydro=0 #set counter of hydrophobic aa to 0\n",
    "    for aa in aa_seq: #loop through all amino acids in the given amino acid sequence\n",
    "        for charged_aa in charged: #loop through all of the possible charged amino acids\n",
    "            if aa==charged_aa: #if the current amino acid in the given sequence matches one of the charged amino acids, enter if statement\n",
    "                proportion_charged=proportion_charged+1 #increase the count of the charged amino amino acids\n",
    "        for polar_aa in polar: #loop through all of the possible polar amino acids\n",
    "            if aa==polar_aa:#if the current amino acid in the given sequence matches one of the polar amino acids, enter if statement\n",
    "                proportion_polar=proportion_polar+1 #increase polar amino acid counter\n",
    "        for hydrophobic_aa in hydrophobic: #loop through all of the possible hydrophobic amino acids\n",
    "            if aa==hydrophobic_aa:#if the current amino acid in the given sequence matches one of the hydrophobic amino acids, enter if statement\n",
    "                proportion_hydro = proportion_hydro + 1 #increase hydrophobic amino acid counter\n",
    "    #returns the proportion of charged, polar, and hydrophobic amino acids in the amino acid sequence\n",
    "    return proportion_charged/len(aa_seq), proportion_polar/len(aa_seq), proportion_hydro/len(aa_seq)\n",
    "\n",
    "#string_nucleotides=\"ATGGCCATTGTAATGGGCAGGCGCTGAAAGGGTGCCCGATAG\"\n",
    "#aa_seq1=better_translation(string_nucleotides)\n",
    "#print(better_translation(string_nucleotides))\n",
    "#print(get_proportion_aa_type_function(aa_seq1))\n",
    "#print(get_proportion_aa_type_function(aa_seq1)[2])"
   ]
  },
  {
   "cell_type": "code",
   "execution_count": 299,
   "metadata": {
    "collapsed": false
   },
   "outputs": [
    {
     "name": "stdout",
     "output_type": "stream",
     "text": [
      "                  species     mass   charged     polar  hydrophobic\n",
      "0          Ursus spelaeus  550.800  0.092348  0.329815     0.577836\n",
      "1            Ursus arctos  203.500  0.092348  0.324538     0.583113\n",
      "2        Ursus thibetanus   99.714  0.092348  0.327177     0.580475\n",
      "3        Melursus ursinus  100.030  0.089710  0.340369     0.569921\n",
      "4        Ursus americanus  110.560  0.089710  0.337731     0.572559\n",
      "5     Helarctos malayanus   47.020  0.092348  0.340369     0.567282\n",
      "6  Ailuropoda melanoleuca  118.200  0.089710  0.343008     0.567282\n",
      "7      Tremarctos ornatus  140.700  0.089710  0.335092     0.575198\n",
      "8         Ursus maritimus  425.100  0.092348  0.327177     0.580475\n"
     ]
    }
   ],
   "source": [
    "cytb_seqs = get_sequences_from_file(\"bears_cytb.fasta\") #applies the get_sequences_from_file function on bears_cytb.fasta\n",
    "bear_df = pd.read_csv(\"bears_data.csv\") # Includes only data for body mass currently and empty cells for other columns\n",
    "#species_list = list(bear_df.species) #creates a list of the bear species.\n",
    "#bear_df\n",
    "counter=0 #creates a new counter\n",
    "for key,value in cytb_seqs.items(): #for loop to go through each key (species),value (sequence) set of the cytb_seqs dictionary\n",
    "    value_string=str(value) #convert the value of the cytb_seqs key to a string\n",
    "    aa_seq=better_translation(value_string) #takes input DNA sequence as a string and applies the better_translation method\n",
    "    #sets the bear_df charged,polar, and hydrophobic column of each species using the get_proportion_aa_type_function output \n",
    "    bear_df.iloc[counter,2]=get_proportion_aa_type_function(aa_seq)[0] \n",
    "    bear_df.iloc[counter,3]=get_proportion_aa_type_function(aa_seq)[1] \n",
    "    bear_df.iloc[counter,4]=get_proportion_aa_type_function(aa_seq)[2]\n",
    "    counter=counter+1 #increase counter by one to move foward to the next row in the next loop\n",
    "    \n",
    "print(bear_df)"
   ]
  },
  {
   "cell_type": "code",
   "execution_count": 300,
   "metadata": {
    "collapsed": false
   },
   "outputs": [],
   "source": [
    "#temp=bear_df[['species','mass']]\n",
    "#temp\n",
    "#bear_plot = temp.plot(x='species',y='mass', kind='bar',stacked=False,title=\"Mass of Bear Species\", rot=60)\n",
    "#bear_plot.set_ylabel(\"Mass\")\n",
    "#bear_plot.set_xlabel(\"Species\")"
   ]
  },
  {
   "cell_type": "code",
   "execution_count": 301,
   "metadata": {
    "collapsed": false
   },
   "outputs": [
    {
     "data": {
      "text/plain": [
       "<matplotlib.text.Text at 0x127f22e8>"
      ]
     },
     "execution_count": 301,
     "metadata": {},
     "output_type": "execute_result"
    },
    {
     "data": {
      "image/png": "[encoded data removed]",
      "text/plain": [
       "<matplotlib.figure.Figure at 0x128e5dd8>"
      ]
     },
     "metadata": {},
     "output_type": "display_data"
    }
   ],
   "source": [
    "bear_mass_plot=sns.barplot(x='species',y='mass', data=bear_df) #bar plot of bear species vs mass using seaborn\n",
    "bear_mass_plot.set_xticklabels(labels=bear_df.species,rotation=30,horizontalalignment='right') #sets the xtick specifications\n",
    "bear_mass_plot.set_title(\"Bear Species VS Mass\") #sets the title of the graph"
   ]
  },
  {
   "cell_type": "code",
   "execution_count": 302,
   "metadata": {
    "collapsed": true
   },
   "outputs": [],
   "source": [
    "#The largest species is Ursus spelaeus, also known as a cave bear.\n",
    "#It live in the Pleistocene, going extinct approximately 24,000 years ago."
   ]
  },
  {
   "cell_type": "code",
   "execution_count": 303,
   "metadata": {
    "collapsed": false
   },
   "outputs": [
    {
     "data": {
      "image/png": "[encoded data removed]",
      "text/plain": [
       "<matplotlib.figure.Figure at 0x12855c18>"
      ]
     },
     "metadata": {},
     "output_type": "display_data"
    }
   ],
   "source": [
    "import numpy as np #import numpy\n",
    "import matplotlib.pyplot as plt #import matplotlib.pyplot\n",
    "#Makes a stacked bar graph using matplotlib\n",
    "ind = np.arange(len(bear_df)) #the x locations for the groups\n",
    "p1 = plt.bar(ind, bear_df.charged) #makes the bottom most bar charged amino acid proportion\n",
    "p2 = plt.bar(ind, bear_df.polar,bottom=bear_df.charged) #makes the middle bar, polar amino acid proportion\n",
    "p3 = plt.bar(ind,bear_df.hydrophobic,bottom=bear_df.charged + bear_df.polar) #makes the upper bar, hydrophobic amino acid proportion\n",
    "\n",
    "plt.ylabel('Proportion of amino acids') #y axis label\n",
    "plt.xlabel('Species') #x axis label\n",
    "plt.title('Proportion of amino acids per bear species') #graph title\n",
    "plt.xticks(ind, (bear_df.species),rotation=20, horizontalalignment='right') #titles, rotates and aligns the x axis ticks, the species\n",
    "plt.yticks(np.arange(0, 1.1, .10))#makes the ranged of the y axis\n",
    "plt.legend((p1[0], p2[0], p3[0]), ('Charged aa', 'Polar aa', 'Hydrophobic aa'), bbox_to_anchor=(1.0, 0.5)) #makes the legend and puts it to the side of the graph\n",
    "\n",
    "plt.show() #displays graph"
   ]
  },
  {
   "cell_type": "code",
   "execution_count": 304,
   "metadata": {
    "collapsed": true
   },
   "outputs": [],
   "source": [
    "## What does this show about cytochrome-b for the bears?\n",
    "#The cytochrome-b gene is most likely highly conserved among bears most likely because the sequence varies \n",
    "#very little even though these bears vary quite a bit in mass and at least one of them is extinct. "
   ]
  },
  {
   "cell_type": "code",
   "execution_count": 305,
   "metadata": {
    "collapsed": false
   },
   "outputs": [
    {
     "data": {
      "text/html": [
       "<div>\n",
       "<table border=\"1\" class=\"dataframe\">\n",
       "  <thead>\n",
       "    <tr style=\"text-align: right;\">\n",
       "      <th></th>\n",
       "      <th>Unnamed: 0</th>\n",
       "      <th>species</th>\n",
       "      <th>mass</th>\n",
       "      <th>charged</th>\n",
       "      <th>polar</th>\n",
       "      <th>hydrophobic</th>\n",
       "    </tr>\n",
       "  </thead>\n",
       "  <tbody>\n",
       "    <tr>\n",
       "      <th>0</th>\n",
       "      <td>0</td>\n",
       "      <td>Ursus spelaeus</td>\n",
       "      <td>550.800</td>\n",
       "      <td>0.092348</td>\n",
       "      <td>0.329815</td>\n",
       "      <td>0.577836</td>\n",
       "    </tr>\n",
       "    <tr>\n",
       "      <th>1</th>\n",
       "      <td>1</td>\n",
       "      <td>Ursus arctos</td>\n",
       "      <td>203.500</td>\n",
       "      <td>0.092348</td>\n",
       "      <td>0.324538</td>\n",
       "      <td>0.583113</td>\n",
       "    </tr>\n",
       "    <tr>\n",
       "      <th>2</th>\n",
       "      <td>2</td>\n",
       "      <td>Ursus thibetanus</td>\n",
       "      <td>99.714</td>\n",
       "      <td>0.092348</td>\n",
       "      <td>0.327177</td>\n",
       "      <td>0.580475</td>\n",
       "    </tr>\n",
       "    <tr>\n",
       "      <th>3</th>\n",
       "      <td>3</td>\n",
       "      <td>Melursus ursinus</td>\n",
       "      <td>100.030</td>\n",
       "      <td>0.089710</td>\n",
       "      <td>0.340369</td>\n",
       "      <td>0.569921</td>\n",
       "    </tr>\n",
       "    <tr>\n",
       "      <th>4</th>\n",
       "      <td>4</td>\n",
       "      <td>Ursus americanus</td>\n",
       "      <td>110.560</td>\n",
       "      <td>0.089710</td>\n",
       "      <td>0.337731</td>\n",
       "      <td>0.572559</td>\n",
       "    </tr>\n",
       "    <tr>\n",
       "      <th>5</th>\n",
       "      <td>5</td>\n",
       "      <td>Helarctos malayanus</td>\n",
       "      <td>47.020</td>\n",
       "      <td>0.092348</td>\n",
       "      <td>0.340369</td>\n",
       "      <td>0.567282</td>\n",
       "    </tr>\n",
       "    <tr>\n",
       "      <th>6</th>\n",
       "      <td>6</td>\n",
       "      <td>Ailuropoda melanoleuca</td>\n",
       "      <td>118.200</td>\n",
       "      <td>0.089710</td>\n",
       "      <td>0.343008</td>\n",
       "      <td>0.567282</td>\n",
       "    </tr>\n",
       "    <tr>\n",
       "      <th>7</th>\n",
       "      <td>7</td>\n",
       "      <td>Tremarctos ornatus</td>\n",
       "      <td>140.700</td>\n",
       "      <td>0.089710</td>\n",
       "      <td>0.335092</td>\n",
       "      <td>0.575198</td>\n",
       "    </tr>\n",
       "    <tr>\n",
       "      <th>8</th>\n",
       "      <td>8</td>\n",
       "      <td>Ursus maritimus</td>\n",
       "      <td>425.100</td>\n",
       "      <td>0.092348</td>\n",
       "      <td>0.327177</td>\n",
       "      <td>0.580475</td>\n",
       "    </tr>\n",
       "  </tbody>\n",
       "</table>\n",
       "</div>"
      ],
      "text/plain": [
       "   Unnamed: 0                 species     mass   charged     polar  \\\n",
       "0           0          Ursus spelaeus  550.800  0.092348  0.329815   \n",
       "1           1            Ursus arctos  203.500  0.092348  0.324538   \n",
       "2           2        Ursus thibetanus   99.714  0.092348  0.327177   \n",
       "3           3        Melursus ursinus  100.030  0.089710  0.340369   \n",
       "4           4        Ursus americanus  110.560  0.089710  0.337731   \n",
       "5           5     Helarctos malayanus   47.020  0.092348  0.340369   \n",
       "6           6  Ailuropoda melanoleuca  118.200  0.089710  0.343008   \n",
       "7           7      Tremarctos ornatus  140.700  0.089710  0.335092   \n",
       "8           8         Ursus maritimus  425.100  0.092348  0.327177   \n",
       "\n",
       "   hydrophobic  \n",
       "0     0.577836  \n",
       "1     0.583113  \n",
       "2     0.580475  \n",
       "3     0.569921  \n",
       "4     0.572559  \n",
       "5     0.567282  \n",
       "6     0.567282  \n",
       "7     0.575198  \n",
       "8     0.580475  "
      ]
     },
     "execution_count": 305,
     "metadata": {},
     "output_type": "execute_result"
    }
   ],
   "source": [
    "bear_df.to_csv('bears_mass_cytb.csv') #creates a csv of the bears_df, named bears_mass_cytb\n",
    "pd.read_csv('bears_mass_cytb.csv') #verify that the csv is readable"
   ]
  },
  {
   "cell_type": "code",
   "execution_count": null,
   "metadata": {
    "collapsed": true
   },
   "outputs": [],
   "source": []
  }
 ],
 "metadata": {
  "kernelspec": {
   "display_name": "Python 3",
   "language": "python",
   "name": "python3"
  },
  "language_info": {
   "codemirror_mode": {
    "name": "ipython",
    "version": 3
   },
   "file_extension": ".py",
   "mimetype": "text/x-python",
   "name": "python",
   "nbconvert_exporter": "python",
   "pygments_lexer": "ipython3",
   "version": "3.6.0"
  }
 },
 "nbformat": 4,
 "nbformat_minor": 2
}
